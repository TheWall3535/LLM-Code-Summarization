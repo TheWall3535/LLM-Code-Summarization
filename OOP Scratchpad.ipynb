{
 "cells": [
  {
   "cell_type": "markdown",
   "id": "273db4c9-fd7c-4525-ba3d-9b507b1a962d",
   "metadata": {},
   "source": [
    "# Imports"
   ]
  },
  {
   "cell_type": "code",
   "execution_count": 1,
   "id": "9143026e-07c7-4551-b257-da4edda9b0e0",
   "metadata": {},
   "outputs": [],
   "source": [
    "from bradyai import CodeSummarizer\n",
    "from preprocessing import FileProcessor"
   ]
  },
  {
   "cell_type": "markdown",
   "id": "78ade728-3b2f-4ffd-bfe6-5bb46bf20d44",
   "metadata": {},
   "source": [
    "# Helper Functions"
   ]
  },
  {
   "cell_type": "code",
   "execution_count": 2,
   "id": "1819401c-bbb0-4b90-9fd6-4680800cded0",
   "metadata": {},
   "outputs": [],
   "source": [
    "class dictionary(dict):\n",
    "    def __init__(self):\n",
    "        self = dict()\n",
    "    def add(self, key, value):\n",
    "            self[key] = value\n",
    "\n",
    "def read_file(filename):\n",
    "        with open (filename) as file:\n",
    "            rfile = file.read()\n",
    "        return rfile"
   ]
  },
  {
   "cell_type": "markdown",
   "id": "d52c32fc-5fa0-460c-b5ac-67b4c5b52d43",
   "metadata": {},
   "source": [
    "# Params"
   ]
  },
  {
   "cell_type": "code",
   "execution_count": 3,
   "id": "7a3cfb12-b144-42bd-823e-b83a0b945637",
   "metadata": {},
   "outputs": [],
   "source": [
    "params = dictionary()\n",
    "for line in read_file(\"GPT_AUTH (1).txt\").split(\"\\n\"):\n",
    "    sep = line.split(\" \")\n",
    "    params.add(sep[0],sep[1])"
   ]
  },
  {
   "cell_type": "markdown",
   "id": "56961f46-411f-461e-b4fb-888c91b21307",
   "metadata": {},
   "source": [
    "# Get code input\n",
    "\n",
    "Not 100% sure yet how this happens, maybe through a file upload or textbox. \n",
    "In any case, let's assume we have a path leading to the raw code"
   ]
  },
  {
   "cell_type": "code",
   "execution_count": 4,
   "id": "3c33c472-2cac-425c-b65e-55234ff2f17f",
   "metadata": {},
   "outputs": [],
   "source": [
    "code_path = \"BradySales_DATA.txt\""
   ]
  },
  {
   "cell_type": "markdown",
   "id": "1653cedc-7617-433f-a3ec-e93b56b6ae6d",
   "metadata": {},
   "source": [
    "# Process raw code"
   ]
  },
  {
   "cell_type": "code",
   "execution_count": 8,
   "id": "2f69be59-1d0e-49f7-b174-5bce2fd6937f",
   "metadata": {},
   "outputs": [
    {
     "ename": "FileNotFoundError",
     "evalue": "[Errno 2] No such file or directory: 'BradySales_DATA.txt'",
     "output_type": "error",
     "traceback": [
      "\u001b[1;31m---------------------------------------------------------------------------\u001b[0m",
      "\u001b[1;31mFileNotFoundError\u001b[0m                         Traceback (most recent call last)",
      "Cell \u001b[1;32mIn[8], line 1\u001b[0m\n\u001b[1;32m----> 1\u001b[0m processor \u001b[38;5;241m=\u001b[39m \u001b[43mFileProcessor\u001b[49m\u001b[43m(\u001b[49m\u001b[43mcode_path\u001b[49m\u001b[43m)\u001b[49m\n",
      "File \u001b[1;32m~\\OneDrive - Loyola University Chicago\\Documents\\GitHub\\LLM-for-code-translations\\preprocessing.py:8\u001b[0m, in \u001b[0;36mFileProcessor.__init__\u001b[1;34m(self, file, PROMPT_LENGTH, tokenizer_MODEL)\u001b[0m\n\u001b[0;32m      6\u001b[0m \u001b[38;5;28;01mdef\u001b[39;00m \u001b[38;5;21m__init__\u001b[39m(\u001b[38;5;28mself\u001b[39m, file, PROMPT_LENGTH \u001b[38;5;241m=\u001b[39m \u001b[38;5;241m1200\u001b[39m, tokenizer_MODEL \u001b[38;5;241m=\u001b[39m \u001b[38;5;124m'\u001b[39m\u001b[38;5;124mgpt-3.5-turbo-16k\u001b[39m\u001b[38;5;124m'\u001b[39m):\n\u001b[0;32m      7\u001b[0m     \u001b[38;5;28mself\u001b[39m\u001b[38;5;241m.\u001b[39mfile \u001b[38;5;241m=\u001b[39m file\n\u001b[1;32m----> 8\u001b[0m     \u001b[38;5;28mself\u001b[39m\u001b[38;5;241m.\u001b[39mclean_file \u001b[38;5;241m=\u001b[39m \u001b[38;5;28;43mself\u001b[39;49m\u001b[38;5;241;43m.\u001b[39;49m\u001b[43mread_and_clean\u001b[49m\u001b[43m(\u001b[49m\u001b[43m)\u001b[49m\n\u001b[0;32m      9\u001b[0m     \u001b[38;5;28mself\u001b[39m\u001b[38;5;241m.\u001b[39msplits_to_avoid \u001b[38;5;241m=\u001b[39m \u001b[38;5;28mself\u001b[39m\u001b[38;5;241m.\u001b[39msplit_index()\n\u001b[0;32m     10\u001b[0m     \u001b[38;5;28mself\u001b[39m\u001b[38;5;241m.\u001b[39mtokenizer_MODEL \u001b[38;5;241m=\u001b[39m tokenizer_MODEL\n",
      "File \u001b[1;32m~\\OneDrive - Loyola University Chicago\\Documents\\GitHub\\LLM-for-code-translations\\preprocessing.py:20\u001b[0m, in \u001b[0;36mFileProcessor.read_and_clean\u001b[1;34m(self)\u001b[0m\n\u001b[0;32m     18\u001b[0m \u001b[38;5;28;01mdef\u001b[39;00m \u001b[38;5;21mread_and_clean\u001b[39m(\u001b[38;5;28mself\u001b[39m):\n\u001b[1;32m---> 20\u001b[0m     \u001b[38;5;28;01mwith\u001b[39;00m \u001b[38;5;28;43mopen\u001b[39;49m\u001b[43m(\u001b[49m\u001b[38;5;28;43mself\u001b[39;49m\u001b[38;5;241;43m.\u001b[39;49m\u001b[43mfile\u001b[49m\u001b[43m)\u001b[49m \u001b[38;5;28;01mas\u001b[39;00m f:\n\u001b[0;32m     21\u001b[0m         lines \u001b[38;5;241m=\u001b[39m f\u001b[38;5;241m.\u001b[39mreadlines()\n\u001b[0;32m     23\u001b[0m     rawCode \u001b[38;5;241m=\u001b[39m [i\u001b[38;5;241m.\u001b[39mlower() \u001b[38;5;28;01mfor\u001b[39;00m i \u001b[38;5;129;01min\u001b[39;00m lines \u001b[38;5;28;01mif\u001b[39;00m (i \u001b[38;5;241m!=\u001b[39m \u001b[38;5;124m\"\u001b[39m\u001b[38;5;130;01m\\n\u001b[39;00m\u001b[38;5;124m\"\u001b[39m \u001b[38;5;129;01mand\u001b[39;00m \u001b[38;5;129;01mnot\u001b[39;00m i\u001b[38;5;241m.\u001b[39mstartswith(\u001b[38;5;124m\"\u001b[39m\u001b[38;5;124m//\u001b[39m\u001b[38;5;124m\"\u001b[39m))]\n",
      "\u001b[1;31mFileNotFoundError\u001b[0m: [Errno 2] No such file or directory: 'BradySales_DATA.txt'"
     ]
    }
   ],
   "source": [
    "processor = FileProcessor(code_path)"
   ]
  },
  {
   "cell_type": "code",
   "execution_count": 6,
   "id": "26cd1da2-2743-4f2d-93c0-27b1eb6659d5",
   "metadata": {},
   "outputs": [],
   "source": [
    "prompts = processor.make_prompts()"
   ]
  },
  {
   "cell_type": "markdown",
   "id": "8c977906-7793-4611-8e80-425ace472efc",
   "metadata": {},
   "source": [
    "# Summarize code"
   ]
  },
  {
   "cell_type": "code",
   "execution_count": 7,
   "id": "c105529d-8d32-40a3-ba00-792cf9f404a3",
   "metadata": {},
   "outputs": [],
   "source": [
    "summarizer = CodeSummarizer(params, max_tokens=16000, prompt_length=1200, language='qlikview')"
   ]
  },
  {
   "cell_type": "code",
   "execution_count": null,
   "id": "5471aa04-484b-403c-9172-f19438db8577",
   "metadata": {},
   "outputs": [],
   "source": [
    "response = summarizer.summarize(prompts[0])"
   ]
  },
  {
   "cell_type": "code",
   "execution_count": null,
   "id": "08b9e0fe-8efc-4db7-89d5-8ae5c24c7afb",
   "metadata": {},
   "outputs": [],
   "source": [
    "response"
   ]
  },
  {
   "cell_type": "markdown",
   "id": "cf82652a-2e14-4527-90c8-f8d883852fe2",
   "metadata": {},
   "source": [
    "# Save summary to object memory"
   ]
  },
  {
   "cell_type": "code",
   "execution_count": null,
   "id": "37b9f2cc-f716-4818-80fd-054d04cc9c8a",
   "metadata": {},
   "outputs": [],
   "source": [
    "summarizer.remember_summary(response)"
   ]
  },
  {
   "cell_type": "code",
   "execution_count": null,
   "id": "107a280f-835b-4234-a719-3ec66ed4003e",
   "metadata": {},
   "outputs": [],
   "source": [
    "summarizer.summaries"
   ]
  },
  {
   "cell_type": "markdown",
   "id": "2069aae1-cde7-413f-a1d6-59798edaf4e9",
   "metadata": {},
   "source": [
    "# Create running summary"
   ]
  },
  {
   "cell_type": "code",
   "execution_count": null,
   "id": "893cdc19-004e-45a1-b859-998e3bb00153",
   "metadata": {},
   "outputs": [],
   "source": [
    "summarizer.update_running_summary(response['summary'])"
   ]
  },
  {
   "cell_type": "code",
   "execution_count": null,
   "id": "61ec2439-89eb-4a0e-a188-4f7b333cd150",
   "metadata": {},
   "outputs": [],
   "source": [
    "summarizer.running_summary"
   ]
  },
  {
   "cell_type": "markdown",
   "id": "f929e820-08d7-4338-88e7-04be7399fe22",
   "metadata": {},
   "source": [
    "# updating running summary"
   ]
  },
  {
   "cell_type": "code",
   "execution_count": null,
   "id": "1d3d53a8-5b82-4432-9b19-1d8f774f7f49",
   "metadata": {},
   "outputs": [],
   "source": [
    "summarizer.update_running_summary('This Qlikview code determined that Linkin Park is the greatest band of the 21st century.')"
   ]
  },
  {
   "cell_type": "code",
   "execution_count": null,
   "id": "170b68c1-ef7c-4631-9512-82e3bdd2de52",
   "metadata": {},
   "outputs": [],
   "source": []
  }
 ],
 "metadata": {
  "kernelspec": {
   "display_name": "Python 3 (ipykernel)",
   "language": "python",
   "name": "python3"
  },
  "language_info": {
   "codemirror_mode": {
    "name": "ipython",
    "version": 3
   },
   "file_extension": ".py",
   "mimetype": "text/x-python",
   "name": "python",
   "nbconvert_exporter": "python",
   "pygments_lexer": "ipython3",
   "version": "3.11.0"
  }
 },
 "nbformat": 4,
 "nbformat_minor": 5
}
