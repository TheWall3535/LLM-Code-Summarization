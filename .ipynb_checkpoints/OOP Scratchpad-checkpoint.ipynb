{
 "cells": [
  {
   "cell_type": "markdown",
   "id": "273db4c9-fd7c-4525-ba3d-9b507b1a962d",
   "metadata": {},
   "source": [
    "# Imports"
   ]
  },
  {
   "cell_type": "code",
   "execution_count": 1,
   "id": "9143026e-07c7-4551-b257-da4edda9b0e0",
   "metadata": {},
   "outputs": [],
   "source": [
    "from bradyai import CodeSummarizer\n",
    "from preprocessing import FileProcessor"
   ]
  },
  {
   "cell_type": "markdown",
   "id": "78ade728-3b2f-4ffd-bfe6-5bb46bf20d44",
   "metadata": {},
   "source": [
    "# Helper Functions"
   ]
  },
  {
   "cell_type": "code",
   "execution_count": 2,
   "id": "1819401c-bbb0-4b90-9fd6-4680800cded0",
   "metadata": {},
   "outputs": [],
   "source": [
    "class dictionary(dict):\n",
    "    def __init__(self):\n",
    "        self = dict()\n",
    "    def add(self, key, value):\n",
    "            self[key] = value\n",
    "\n",
    "def read_file(filename):\n",
    "        with open (filename) as file:\n",
    "            rfile = file.read()\n",
    "        return rfile"
   ]
  },
  {
   "cell_type": "markdown",
   "id": "d52c32fc-5fa0-460c-b5ac-67b4c5b52d43",
   "metadata": {},
   "source": [
    "# Params"
   ]
  },
  {
   "cell_type": "code",
   "execution_count": 3,
   "id": "7a3cfb12-b144-42bd-823e-b83a0b945637",
   "metadata": {},
   "outputs": [],
   "source": [
    "params = dictionary()\n",
    "for line in read_file(\"GPT_AUTH (1).txt\").split(\"\\n\"):\n",
    "    sep = line.split(\" \")\n",
    "    params.add(sep[0],sep[1])"
   ]
  },
  {
   "cell_type": "markdown",
   "id": "56961f46-411f-461e-b4fb-888c91b21307",
   "metadata": {},
   "source": [
    "# Get code input\n",
    "\n",
    "Not 100% sure yet how this happens, maybe through a file upload or textbox. \n",
    "In any case, let's assume we have a path leading to the raw code"
   ]
  },
  {
   "cell_type": "code",
   "execution_count": 4,
   "id": "3c33c472-2cac-425c-b65e-55234ff2f17f",
   "metadata": {},
   "outputs": [],
   "source": [
    "code_path = \"BradySales_DATA.txt\""
   ]
  },
  {
   "cell_type": "markdown",
   "id": "1653cedc-7617-433f-a3ec-e93b56b6ae6d",
   "metadata": {},
   "source": [
    "# Process raw code"
   ]
  },
  {
   "cell_type": "code",
   "execution_count": 5,
   "id": "2f69be59-1d0e-49f7-b174-5bce2fd6937f",
   "metadata": {},
   "outputs": [],
   "source": [
    "processor = FileProcessor(code_path)"
   ]
  },
  {
   "cell_type": "code",
   "execution_count": 6,
   "id": "26cd1da2-2743-4f2d-93c0-27b1eb6659d5",
   "metadata": {},
   "outputs": [],
   "source": [
    "prompts = processor.make_prompts()"
   ]
  },
  {
   "cell_type": "markdown",
   "id": "8c977906-7793-4611-8e80-425ace472efc",
   "metadata": {},
   "source": [
    "# Summarize code"
   ]
  },
  {
   "cell_type": "code",
   "execution_count": 7,
   "id": "c105529d-8d32-40a3-ba00-792cf9f404a3",
   "metadata": {},
   "outputs": [],
   "source": [
    "summarizer = CodeSummarizer(params, max_tokens=16000, prompt_length=1200, language='qlikview')"
   ]
  },
  {
   "cell_type": "code",
   "execution_count": 8,
   "id": "5471aa04-484b-403c-9172-f19438db8577",
   "metadata": {},
   "outputs": [
    {
     "name": "stdout",
     "output_type": "stream",
     "text": [
      "creating summary candidates\n",
      "summary candidates created\n",
      "scoring summary 1 of 3\n",
      "scoring summary 2 of 3\n",
      "scoring summary 3 of 3\n"
     ]
    }
   ],
   "source": [
    "response = summarizer.summarize(prompts[0])"
   ]
  },
  {
   "cell_type": "code",
   "execution_count": 9,
   "id": "08b9e0fe-8efc-4db7-89d5-8ae5c24c7afb",
   "metadata": {},
   "outputs": [
    {
     "data": {
      "text/plain": [
       "{'summary': 'The provided code consists of multiple QlikView load statements that are used to load data from separate QVD (QlikView Data) files into corresponding tables. Here is a step-by-step breakdown of each load statement:\\n\\n1. `sales` table load statement:\\n   - Loads data from the \"sales.qvd\" QVD file into the \"sales\" table.\\n   - It selects the following fields: \\n      - `hour(transactiondate)` as `transhour`\\n      - `dateid`\\n      - `productid`\\n      - `customerid`\\n      - `discount`\\n      - `quantity`\\n      - `saleprice`\\n      - `sales`\\n   - Uses the `(qvd)` format specifier to read the QVD file.\\n\\n2. `calendar` table load statement:\\n   - Loads data from the \"calendar.qvd\" QVD file into the \"calendar\" table.\\n   - It selects the following fields:\\n      - `dateid`\\n      - `date`\\n      - `year`\\n      - `month`\\n      - `day`\\n      - `weekday`\\n      - `week`\\n      - `quarter`\\n      - `yearmonth`\\n      - `yearquarter`\\n      - `yearweek`\\n   - Uses the `(qvd)` format specifier to read the QVD file.\\n\\n3. `customer` table load statement:\\n   - Loads data from the \"customer.qvd\" QVD file into the \"customer\" table.\\n   - It selects the following fields:\\n      - `customerid`\\n      - `customername`\\n      - `cityid`\\n   - Uses the `(qvd)` format specifier to read the QVD file.\\n\\n4. `city_country` table load statement:\\n   - Loads data from the \"city_country.qvd\" QVD file into the \"city_country\" table.\\n   - It selects the following fields:\\n      - `cityid`\\n      - `city`\\n      - `country`\\n   - Uses the `(qvd)` format specifier to read the QVD file.\\n\\n5. `product` table load statement:\\n   - Loads data from the \"product.qvd\" QVD file into the \"product\" table.\\n   - It selects the following fields:\\n      - `productid`\\n      - `supplierid`\\n      - `productname`\\n      - `markup`\\n      - `costprice`\\n      - `unitprice`\\n   - Uses the `(qvd)` format specifier to read the QVD file.\\n\\n6. `supplier` table load statement:\\n   - Loads data from the \"supplier.qvd\" QVD file into the \"supplier\" table.\\n   - It selects the following fields:\\n      - `supplierid`\\n      - `suppliername`\\n      - `suppliercity`\\n      - `suppliercountry`\\n   - Uses the `(qvd)` format specifier to read the QVD file.\\n\\nNote: The provided code does not contain any conditions or data transformations. It simply loads data from QVD files into respective QlikView tables.',\n",
       " 'mean': 0.6567946754482021,\n",
       " 'max': 0.6567946754482021,\n",
       " 'original_code': 'sales:\\nload //salesid,\\n     hour(transactiondate) as transhour,\\n     dateid, \\n     productid, \\n     customerid, \\n     discount, \\n     quantity, \\n     saleprice, \\n     sales\\nfrom\\n[sales.qvd]\\n(qvd)\\n\\ncalendar:\\nload dateid, \\n     date, \\n     year, \\n     month, \\n     day, \\n     weekday, \\n     week, \\n     quarter, \\n     yearmonth, \\n     yearquarter, \\n     yearweek\\nfrom\\n[calendar.qvd]\\n(qvd)\\n\\ncustomer:\\nload customerid, \\n     customername, \\n     cityid\\nfrom\\n[customer.qvd]\\n(qvd)\\n\\ncity_country:\\nload cityid, \\n     city, \\n     country\\nfrom\\n[city_country.qvd]\\n(qvd)\\n\\nproduct:\\nload productid, \\n\\t supplierid,\\n     productname, \\n     markup, \\n     costprice, \\n     unitprice\\nfrom\\n[product.qvd]\\n(qvd)\\n\\nsupplier:\\nload supplierid, \\n     suppliername, \\n     suppliercity, \\n     suppliercountry\\nfrom\\n[supplier.qvd]\\n(qvd)\\n\\n\\n'}"
      ]
     },
     "execution_count": 9,
     "metadata": {},
     "output_type": "execute_result"
    }
   ],
   "source": [
    "response"
   ]
  },
  {
   "cell_type": "markdown",
   "id": "cf82652a-2e14-4527-90c8-f8d883852fe2",
   "metadata": {},
   "source": [
    "# Save summary to object memory"
   ]
  },
  {
   "cell_type": "code",
   "execution_count": null,
   "id": "37b9f2cc-f716-4818-80fd-054d04cc9c8a",
   "metadata": {},
   "outputs": [],
   "source": [
    "summarizer.remember_summary(response)"
   ]
  },
  {
   "cell_type": "code",
   "execution_count": null,
   "id": "107a280f-835b-4234-a719-3ec66ed4003e",
   "metadata": {},
   "outputs": [],
   "source": [
    "summarizer.summaries"
   ]
  },
  {
   "cell_type": "markdown",
   "id": "2069aae1-cde7-413f-a1d6-59798edaf4e9",
   "metadata": {},
   "source": [
    "# Create running summary"
   ]
  },
  {
   "cell_type": "code",
   "execution_count": null,
   "id": "893cdc19-004e-45a1-b859-998e3bb00153",
   "metadata": {},
   "outputs": [],
   "source": [
    "summarizer.update_running_summary(response['summary'])"
   ]
  },
  {
   "cell_type": "code",
   "execution_count": null,
   "id": "61ec2439-89eb-4a0e-a188-4f7b333cd150",
   "metadata": {},
   "outputs": [],
   "source": [
    "summarizer.running_summary"
   ]
  },
  {
   "cell_type": "code",
   "execution_count": null,
   "id": "a8b5e855-06f5-4105-b1ff-b1b63ea76d50",
   "metadata": {},
   "outputs": [],
   "source": []
  }
 ],
 "metadata": {
  "kernelspec": {
   "display_name": "Python 3 (ipykernel)",
   "language": "python",
   "name": "python3"
  },
  "language_info": {
   "codemirror_mode": {
    "name": "ipython",
    "version": 3
   },
   "file_extension": ".py",
   "mimetype": "text/x-python",
   "name": "python",
   "nbconvert_exporter": "python",
   "pygments_lexer": "ipython3",
   "version": "3.11.5"
  }
 },
 "nbformat": 4,
 "nbformat_minor": 5
}
