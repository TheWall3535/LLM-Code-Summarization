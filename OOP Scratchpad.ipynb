{
 "cells": [
  {
   "cell_type": "markdown",
   "id": "6459dc48-3719-446b-b3ea-f0c42321e931",
   "metadata": {},
   "source": [
    "# TODO\n",
    "\n",
    "* Two levels of documentation\n",
    "    * Detailed low level - need examples\n",
    "    * User Document (High level) - code to produce high level summaries (presumably from low level summaries)\n",
    "        * Do we have example documentation from well documented data models -maybe not \n",
    "        * Combine low level summaries (LSTM approach)\n",
    "     \n",
    "*  Dependencies\n",
    "    * examples (Anthony)  \n",
    "    * scoring \n",
    "    * loop through chunks \n",
    "    * selecting final summary\n",
    "    * Validate summary quality\n",
    " \n",
    "    * Running summary / High level user doc\n",
    "    * Write output to file\n",
    " \n",
    "    * Qlikview front end (Anthony)\n",
    " \n",
    "    * Nice to have down the road - different languages"
   ]
  },
  {
   "cell_type": "code",
   "execution_count": null,
   "id": "e5738b29-8565-44d9-9665-97aab867fd20",
   "metadata": {},
   "outputs": [],
   "source": []
  },
  {
   "cell_type": "markdown",
   "id": "273db4c9-fd7c-4525-ba3d-9b507b1a962d",
   "metadata": {},
   "source": [
    "# Imports"
   ]
  },
  {
   "cell_type": "code",
   "execution_count": 1,
   "id": "9143026e-07c7-4551-b257-da4edda9b0e0",
   "metadata": {},
   "outputs": [],
   "source": [
    "from bradyai import CodeSummarizer\n",
    "from preprocessing import FileProcessor"
   ]
  },
  {
   "cell_type": "markdown",
   "id": "78ade728-3b2f-4ffd-bfe6-5bb46bf20d44",
   "metadata": {
    "jupyter": {
     "source_hidden": true
    }
   },
   "source": [
    "# Helper Functions"
   ]
  },
  {
   "cell_type": "code",
   "execution_count": 2,
   "id": "1819401c-bbb0-4b90-9fd6-4680800cded0",
   "metadata": {
    "jupyter": {
     "source_hidden": true
    }
   },
   "outputs": [],
   "source": [
    "class dictionary(dict):\n",
    "    def __init__(self):\n",
    "        self = dict()\n",
    "    def add(self, key, value):\n",
    "            self[key] = value\n",
    "\n",
    "def read_file(filename):\n",
    "        with open (filename) as file:\n",
    "            rfile = file.read()\n",
    "        return rfile"
   ]
  },
  {
   "cell_type": "markdown",
   "id": "d52c32fc-5fa0-460c-b5ac-67b4c5b52d43",
   "metadata": {
    "jupyter": {
     "source_hidden": true
    }
   },
   "source": [
    "# Params"
   ]
  },
  {
   "cell_type": "code",
   "execution_count": 3,
   "id": "7a3cfb12-b144-42bd-823e-b83a0b945637",
   "metadata": {
    "jupyter": {
     "source_hidden": true
    }
   },
   "outputs": [],
   "source": [
    "params = dictionary()\n",
    "for line in read_file(\"GPT_AUTH (1).txt\").split(\"\\n\"):\n",
    "    sep = line.split(\" \")\n",
    "    params.add(sep[0],sep[1])"
   ]
  },
  {
   "cell_type": "markdown",
   "id": "56961f46-411f-461e-b4fb-888c91b21307",
   "metadata": {},
   "source": [
    "# Get code input\n",
    "\n",
    "Not 100% sure yet how this happens, maybe through a file upload or textbox. \n",
    "In any case, let's assume we have a path leading to the raw code"
   ]
  },
  {
   "cell_type": "code",
   "execution_count": 4,
   "id": "3c33c472-2cac-425c-b65e-55234ff2f17f",
   "metadata": {},
   "outputs": [],
   "source": [
    "code_path = \"BradySales_DATA.txt\""
   ]
  },
  {
   "cell_type": "markdown",
   "id": "1653cedc-7617-433f-a3ec-e93b56b6ae6d",
   "metadata": {},
   "source": [
    "# Process raw code"
   ]
  },
  {
   "cell_type": "code",
   "execution_count": 5,
   "id": "2f69be59-1d0e-49f7-b174-5bce2fd6937f",
   "metadata": {},
   "outputs": [],
   "source": [
    "processor = FileProcessor(code_path)"
   ]
  },
  {
   "cell_type": "code",
   "execution_count": 6,
   "id": "26cd1da2-2743-4f2d-93c0-27b1eb6659d5",
   "metadata": {},
   "outputs": [],
   "source": [
    "prompts = processor.make_prompts()"
   ]
  },
  {
   "cell_type": "markdown",
   "id": "8c977906-7793-4611-8e80-425ace472efc",
   "metadata": {},
   "source": [
    "# Summarize code"
   ]
  },
  {
   "cell_type": "code",
   "execution_count": 7,
   "id": "c105529d-8d32-40a3-ba00-792cf9f404a3",
   "metadata": {},
   "outputs": [],
   "source": [
    "summarizer = CodeSummarizer(params, max_tokens=16000, prompt_length=1200, language='qlikview')"
   ]
  },
  {
   "cell_type": "code",
   "execution_count": null,
<<<<<<< Updated upstream
   "id": "62fc57e4-1677-4915-9cab-b6f3f9b89354",
   "metadata": {},
   "outputs": [],
   "source": [
    "# probably want to wrap this in a for loop.\n",
    "# TODO: score responses, pick the best one. This should happen all within the CodeSummarizer class\n",
    "# iterate over \n",
    "# Need examples"
   ]
  },
  {
   "cell_type": "code",
   "execution_count": 8,
   "id": "5471aa04-484b-403c-9172-f19438db8577",
   "metadata": {},
   "outputs": [],
=======
   "id": "5471aa04-484b-403c-9172-f19438db8577",
   "metadata": {},
   "outputs": [
    {
     "name": "stdout",
     "output_type": "stream",
     "text": [
      "creating summary candidates\n",
      "summary candidates created\n",
      "scoring summary 1 of 3\n",
      "scoring summary 2 of 3\n"
     ]
    }
   ],
>>>>>>> Stashed changes
   "source": [
    "response = summarizer.summarize(prompts[0])"
   ]
  },
  {
   "cell_type": "code",
   "execution_count": null,
<<<<<<< Updated upstream
   "id": "152dcd76-e9a3-43cf-91e6-aeb1c4916cec",
   "metadata": {},
   "outputs": [],
   "source": [
    "summarizer"
   ]
  },
  {
   "cell_type": "code",
   "execution_count": 11,
   "id": "08b9e0fe-8efc-4db7-89d5-8ae5c24c7afb",
   "metadata": {},
   "outputs": [
    {
     "data": {
      "text/plain": [
       "<OpenAIObject chat.completion id=chatcmpl-80DrtTZBnl10FmHT0EfX8y6f3W1mX at 0x260304130b0> JSON: {\n",
       "  \"id\": \"chatcmpl-80DrtTZBnl10FmHT0EfX8y6f3W1mX\",\n",
       "  \"object\": \"chat.completion\",\n",
       "  \"created\": 1695064001,\n",
       "  \"model\": \"gpt-35-turbo-16k\",\n",
       "  \"choices\": [\n",
       "    {\n",
       "      \"index\": 0,\n",
       "      \"finish_reason\": \"stop\",\n",
       "      \"message\": {\n",
       "        \"role\": \"assistant\",\n",
       "        \"content\": \"The code provided loads data from multiple QVD (QlikView Data) files into different QlikView tables. \\n\\n1. The \\\"sales\\\" table is loaded from the \\\"sales.qvd\\\" file. The columns loaded include \\\"transhour\\\" (the hour portion of the \\\"transactiondate\\\" field), \\\"dateid\\\", \\\"productid\\\", \\\"customerid\\\", \\\"discount\\\", \\\"quantity\\\", \\\"saleprice\\\", and \\\"sales\\\".\\n\\n2. The \\\"calendar\\\" table is loaded from the \\\"calendar.qvd\\\" file. The columns loaded include \\\"dateid\\\", \\\"date\\\", \\\"year\\\", \\\"month\\\", \\\"day\\\", \\\"weekday\\\", \\\"week\\\", \\\"quarter\\\", \\\"yearmonth\\\", \\\"yearquarter\\\", and \\\"yearweek\\\".\\n\\n3. The \\\"customer\\\" table is loaded from the \\\"customer.qvd\\\" file. The columns loaded include \\\"customerid\\\", \\\"customername\\\", and \\\"cityid\\\".\\n\\n4. The \\\"city_country\\\" table is loaded from the \\\"city_country.qvd\\\" file. The columns loaded include \\\"cityid\\\", \\\"city\\\", and \\\"country\\\".\\n\\n5. The \\\"product\\\" table is loaded from the \\\"product.qvd\\\" file. The columns loaded include \\\"productid\\\", \\\"supplierid\\\", \\\"productname\\\", \\\"markup\\\", \\\"costprice\\\", and \\\"unitprice\\\".\\n\\n6. The \\\"supplier\\\" table is loaded from the \\\"supplier.qvd\\\" file. The columns loaded include \\\"supplierid\\\", \\\"suppliername\\\", \\\"suppliercity\\\", and \\\"suppliercountry\\\".\\n\\nNote: The \\\"(qvd)\\\" statement after each file path tells QlikView that the data should be loaded from a QVD file.\"\n",
       "      }\n",
       "    },\n",
       "    {\n",
       "      \"index\": 1,\n",
       "      \"finish_reason\": \"stop\",\n",
       "      \"message\": {\n",
       "        \"role\": \"assistant\",\n",
       "        \"content\": \"The given code consists of multiple load statements, each loading data from separate QVD files into different QlikView tables. Here are the details of each load statement:\\n\\n1. Load statement for \\\"sales\\\" table:\\n- Loads fields: transhour, dateid, productid, customerid, discount, quantity, saleprice, sales\\n- Loads data from the \\\"sales.qvd\\\" QVD file into the \\\"sales\\\" table\\n- The \\\"hour(transactiondate)\\\" function is used to extract the hour component from the \\\"transactiondate\\\" field\\n\\n2. Load statement for \\\"calendar\\\" table:\\n- Loads fields: dateid, date, year, month, day, weekday, week, quarter, yearmonth, yearquarter, yearweek\\n- Loads data from the \\\"calendar.qvd\\\" QVD file into the \\\"calendar\\\" table\\n\\n3. Load statement for \\\"customer\\\" table:\\n- Loads fields: customerid, customername, cityid\\n- Loads data from the \\\"customer.qvd\\\" QVD file into the \\\"customer\\\" table\\n\\n4. Load statement for \\\"city_country\\\" table:\\n- Loads fields: cityid, city, country\\n- Loads data from the \\\"city_country.qvd\\\" QVD file into the \\\"city_country\\\" table\\n\\n5. Load statement for \\\"product\\\" table:\\n- Loads fields: productid, supplierid, productname, markup, costprice, unitprice\\n- Loads data from the \\\"product.qvd\\\" QVD file into the \\\"product\\\" table\\n\\n6. Load statement for \\\"supplier\\\" table:\\n- Loads fields: supplierid, suppliername, suppliercity, suppliercountry\\n- Loads data from the \\\"supplier.qvd\\\" QVD file into the \\\"supplier\\\" table\\n\\nEach load statement is used to populate a specific QlikView table with data from the corresponding QVD file.\"\n",
       "      }\n",
       "    },\n",
       "    {\n",
       "      \"index\": 2,\n",
       "      \"finish_reason\": \"stop\",\n",
       "      \"message\": {\n",
       "        \"role\": \"assistant\",\n",
       "        \"content\": \"The code provided includes several LOAD statements that load data from QVD files into QlikView tables. Here is a step-by-step breakdown of the code:\\n\\n1. `sales` table:\\n   - LOADs the following fields from the \\\"sales.qvd\\\" file into the table:\\n     - `transhour`: Extracts the hour component from the \\\"transactiondate\\\" field.\\n     - `dateid`: Loads the \\\"dateid\\\" field.\\n     - `productid`: Loads the \\\"productid\\\" field.\\n     - `customerid`: Loads the \\\"customerid\\\" field.\\n     - `discount`: Loads the \\\"discount\\\" field.\\n     - `quantity`: Loads the \\\"quantity\\\" field.\\n     - `saleprice`: Loads the \\\"saleprice\\\" field.\\n     - `sales`: Loads the \\\"sales\\\" field.\\n\\n2. `calendar` table:\\n   - LOADs the following fields from the \\\"calendar.qvd\\\" file into the table:\\n     - `dateid`: Loads the \\\"dateid\\\" field.\\n     - `date`: Loads the \\\"date\\\" field.\\n     - `year`: Loads the \\\"year\\\" field.\\n     - `month`: Loads the \\\"month\\\" field.\\n     - `day`: Loads the \\\"day\\\" field.\\n     - `weekday`: Loads the \\\"weekday\\\" field.\\n     - `week`: Loads the \\\"week\\\" field.\\n     - `quarter`: Loads the \\\"quarter\\\" field.\\n     - `yearmonth`: Loads the \\\"yearmonth\\\" field.\\n     - `yearquarter`: Loads the \\\"yearquarter\\\" field.\\n     - `yearweek`: Loads the \\\"yearweek\\\" field.\\n\\n\\n3. `customer` table:\\n   - LOADs the following fields from the \\\"customer.qvd\\\" file into the table:\\n     - `customerid`: Loads the \\\"customerid\\\" field.\\n     - `customername`: Loads the \\\"customername\\\" field.\\n     - `cityid`: Loads the \\\"cityid\\\" field.\\n\\n4. `city_country` table:\\n   - LOADs the following fields from the \\\"city_country.qvd\\\" file into the table:\\n     - `cityid`: Loads the \\\"cityid\\\" field.\\n     - `city`: Loads the \\\"city\\\" field.\\n     - `country`: Loads the \\\"country\\\" field.\\n\\n5. `product` table:\\n   - LOADs the following fields from the \\\"product.qvd\\\" file into the table:\\n     - `productid`: Loads the \\\"productid\\\" field.\\n     - `supplierid`: Loads the \\\"supplierid\\\" field.\\n     - `productname`: Loads the \\\"productname\\\" field.\\n     - `markup`: Loads the \\\"markup\\\" field.\\n     - `costprice`: Loads the \\\"costprice\\\" field.\\n     - `unitprice`: Loads the \\\"unitprice\\\" field.\\n\\n6. `supplier` table:\\n   - LOADs the following fields from the \\\"supplier.qvd\\\" file into the table:\\n     - `supplierid`: Loads the \\\"supplierid\\\" field.\\n     - `suppliername`: Loads the \\\"suppliername\\\" field.\\n     - `suppliercity`: Loads the \\\"suppliercity\\\" field.\\n     - `suppliercountry`: Loads the \\\"suppliercountry\\\" field.\\n\\nNote that the `(qvd)` keyword is used after each file name in the `LOAD` statements to specify that the data should be loaded from a QVD file.\"\n",
       "      }\n",
       "    }\n",
       "  ],\n",
       "  \"usage\": {\n",
       "    \"completion_tokens\": 1400,\n",
       "    \"prompt_tokens\": 327,\n",
       "    \"total_tokens\": 1727\n",
       "  }\n",
       "}"
      ]
     },
     "execution_count": 11,
     "metadata": {},
     "output_type": "execute_result"
    }
   ],
=======
   "id": "08b9e0fe-8efc-4db7-89d5-8ae5c24c7afb",
   "metadata": {},
   "outputs": [],
>>>>>>> Stashed changes
   "source": [
    "response"
   ]
  },
  {
<<<<<<< Updated upstream
=======
   "cell_type": "markdown",
   "id": "cf82652a-2e14-4527-90c8-f8d883852fe2",
   "metadata": {},
   "source": [
    "# Save summary to object memory"
   ]
  },
  {
>>>>>>> Stashed changes
   "cell_type": "code",
   "execution_count": null,
   "id": "402b7f61-a1b7-4d6c-bd96-fece57a73a82",
   "metadata": {},
   "outputs": [],
   "source": [
    "summarizer.remember_summary(response)"
   ]
  },
  {
   "cell_type": "code",
   "execution_count": null,
   "id": "107a280f-835b-4234-a719-3ec66ed4003e",
   "metadata": {},
   "outputs": [],
   "source": [
    "summarizer.summaries"
   ]
  },
  {
   "cell_type": "markdown",
   "id": "2069aae1-cde7-413f-a1d6-59798edaf4e9",
   "metadata": {},
   "source": [
    "# Create running summary"
   ]
  },
  {
   "cell_type": "code",
   "execution_count": null,
   "id": "893cdc19-004e-45a1-b859-998e3bb00153",
   "metadata": {},
   "outputs": [],
   "source": [
    "summarizer.update_running_summary(response['summary'])"
   ]
  },
  {
   "cell_type": "code",
   "execution_count": null,
   "id": "61ec2439-89eb-4a0e-a188-4f7b333cd150",
   "metadata": {},
   "outputs": [],
   "source": [
    "summarizer.running_summary"
   ]
  },
  {
   "cell_type": "code",
   "execution_count": null,
   "id": "a8b5e855-06f5-4105-b1ff-b1b63ea76d50",
   "metadata": {},
   "outputs": [],
   "source": []
  }
 ],
 "metadata": {
  "kernelspec": {
   "display_name": "Python 3 (ipykernel)",
   "language": "python",
   "name": "python3"
  },
  "language_info": {
   "codemirror_mode": {
    "name": "ipython",
    "version": 3
   },
   "file_extension": ".py",
   "mimetype": "text/x-python",
   "name": "python",
   "nbconvert_exporter": "python",
   "pygments_lexer": "ipython3",
   "version": "3.11.4"
  }
 },
 "nbformat": 4,
 "nbformat_minor": 5
}
